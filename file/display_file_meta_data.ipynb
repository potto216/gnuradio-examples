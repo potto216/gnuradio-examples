{
 "cells": [
  {
   "cell_type": "code",
   "execution_count": 13,
   "id": "3e2d38b3",
   "metadata": {},
   "outputs": [],
   "source": [
    "from gnuradio import gr,blocks\n",
    "import pmt\n",
    "import sys\n",
    "from gnuradio.blocks import parse_file_metadata"
   ]
  },
  {
   "cell_type": "code",
   "execution_count": 14,
   "id": "5c1ece03",
   "metadata": {},
   "outputs": [],
   "source": [
    "#ref: https://github.com/gnuradio/gnuradio/blob/1a0be2e6b54496a8136a64d86e372ab219c6559b/gr-utils/read_file_metadata/gr_read_file_metadata\n",
    "#gr_read_file_metadata only works with detached headers\n",
    "filename ='./data/data_complex_saw_tooth.bin'\n",
    "filename ='./data/data_float32_saw_tooth.bin'\n",
    "#filename ='./data/data_complex_saw_tooth_detached.bin.hdr'\n",
    "handle = open(filename, \"rb\")\n",
    "nheaders = 0\n",
    "nread = 0"
   ]
  },
  {
   "cell_type": "code",
   "execution_count": 15,
   "id": "20c9eb89",
   "metadata": {},
   "outputs": [
    {
     "data": {
      "text/plain": [
       "0"
      ]
     },
     "execution_count": 15,
     "metadata": {},
     "output_type": "execute_result"
    }
   ],
   "source": [
    "handle.seek(0, 0) #Go to the start of the file"
   ]
  },
  {
   "cell_type": "code",
   "execution_count": 16,
   "id": "c2eef7b5",
   "metadata": {},
   "outputs": [],
   "source": [
    "#Read metarecord\n",
    "hdr_start = handle.tell()\n",
    "header_str = handle.read(parse_file_metadata.HEADER_LENGTH)\n",
    "try:\n",
    "    header = pmt.deserialize_str(header_str)\n",
    "except RuntimeError:\n",
    "    sys.stderr.write(\"Could not deserialize header: invalid or corrupt data file.\\n\")"
   ]
  },
  {
   "cell_type": "code",
   "execution_count": 17,
   "id": "e9c9f6aa",
   "metadata": {},
   "outputs": [
    {
     "name": "stdout",
     "output_type": "stream",
     "text": [
      "hdr start position: 0, header_str: b'\\x07\\x07\\x02\\x00\\x04strt\\x0b\\x00\\x00\\x00\\x00\\x00\\x00\\x00\\xa6\\x07\\x07\\x02\\x00\\x05bytes\\x0b\\x00\\x00\\x00\\x00\\x00\\x00\\x05\\x00\\x07\\x07\\x02\\x00\\x04cplx\\x01\\x07\\x07\\x02\\x00\\x04type\\x03\\x00\\x00\\x00\\x05\\x07\\x07\\x02\\x00\\x04size\\x03\\x00\\x00\\x00\\x04\\x07\\x07\\x02\\x00\\x07rx_time\\x0c\\x00\\x00\\x00\\x02\\x0b\\x00\\x00\\x00\\x00\\x00\\x00\\x00\\x00\\x04\\x00\\x00\\x00\\x00\\x00\\x00\\x00\\x00\\x07\\x07\\x02\\x00\\x07rx_rate\\x04@\\xdf@\\x00\\x00\\x00\\x00\\x00\\x07\\x07\\x02\\x00\\x07version\\x03\\x00\\x00\\x00\\x00\\x06'\n",
      "((strt . 166) (bytes . 1280) (cplx . #f) (type . 5) (size . 4) (rx_time . {0 0}) (rx_rate . 32000) (version . 0))\n",
      "HEADER number 0\n",
      "Version Number: 0\n",
      "Sample Rate: 32000.00 sps\n",
      "Seconds: 0.000000\n",
      "Item size: 4\n",
      "Data Type: float (5)\n",
      "Complex? False\n",
      "Header Length: 166 bytes\n",
      "Extra Length:  17\n",
      "Extra Header?  True\n",
      "Size of Data: 1280 bytes\n",
      "              320.0 items\n"
     ]
    }
   ],
   "source": [
    "print(f\"hdr start position: {hdr_start}, header_str: {header_str}\" )\n",
    "print(f\"{header}\")\n",
    "\n",
    "print(f\"HEADER number {nheaders}\")\n",
    "header_info = parse_file_metadata.parse_header(header, True)\n"
   ]
  },
  {
   "cell_type": "code",
   "execution_count": 18,
   "id": "b25892cb",
   "metadata": {},
   "outputs": [
    {
     "name": "stdout",
     "output_type": "stream",
     "text": [
      "Inital: 3\n",
      "Extra raw data is b'\\x07\\x07\\x02\\x00\\x06Inital\\x03\\x00\\x00\\x00\\x03\\x06'\n",
      "{'rx_rate': 32000.0, 'rx_time': 0.0, 'size': 4, 'type': 'float', 'cplx': False, 'hdr_len': 166, 'extra_len': 17, 'has_extra': True, 'nitems': 320.0, 'nbytes': 1280, 'Inital': 3}\n"
     ]
    }
   ],
   "source": [
    "if(header_info[\"extra_len\"] > 0):\n",
    "    extra_str = handle.read(header_info[\"extra_len\"])\n",
    "    if(len(extra_str) == 0):\n",
    "        pass\n",
    "    try:\n",
    "        extra = pmt.deserialize_str(extra_str)\n",
    "    except RuntimeError:\n",
    "        sys.stderr.write(\"Could not deserialize extras: invalid or corrupt data file.\\n\")\n",
    "\n",
    "    #print(f\"\\nExtra header found. Length is {header_info[\"extra_len\"]} bytes\")\n",
    "                         \n",
    "    extra_info = parse_file_metadata.parse_extra_dict(extra, header_info, True)\n",
    "  \n",
    "    print(f\"Extra raw data is {extra_str}\" )\n",
    "    print(f\"{extra_info}\")"
   ]
  },
  {
   "cell_type": "code",
   "execution_count": 19,
   "id": "68401e9c",
   "metadata": {},
   "outputs": [
    {
     "name": "stdout",
     "output_type": "stream",
     "text": [
      "The current position is 166\n"
     ]
    }
   ],
   "source": [
    "print(f'The current position is {handle.tell()}')"
   ]
  },
  {
   "cell_type": "code",
   "execution_count": 20,
   "id": "50debf94",
   "metadata": {},
   "outputs": [
    {
     "data": {
      "text/plain": [
       "1280"
      ]
     },
     "execution_count": 20,
     "metadata": {},
     "output_type": "execute_result"
    }
   ],
   "source": [
    "header_info['nbytes']"
   ]
  },
  {
   "cell_type": "code",
   "execution_count": 21,
   "id": "ec4c08b4",
   "metadata": {},
   "outputs": [],
   "source": [
    "#Plot data\n",
    "import numpy as np\n",
    "data=np.fromfile(file=handle, dtype=np.float32, count=int(header_info['nitems']), sep='', offset=0)"
   ]
  },
  {
   "cell_type": "code",
   "execution_count": 22,
   "id": "edd97618",
   "metadata": {},
   "outputs": [
    {
     "data": {
      "text/plain": [
       "Text(0.5, 1.0, 'Scatter plot and line')"
      ]
     },
     "execution_count": 22,
     "metadata": {},
     "output_type": "execute_result"
    },
    {
     "data": {
      "image/png": "[encoded data removed]",
      "text/plain": [
       "<Figure size 360x252 with 1 Axes>"
      ]
     },
     "metadata": {
      "needs_background": "light"
     },
     "output_type": "display_data"
    }
   ],
   "source": [
    "import matplotlib\n",
    "import matplotlib.pyplot as plt\n",
    "fig = plt.figure(figsize=(5,3.5))\n",
    "ax=fig.add_subplot(1,1,1)\n",
    "color='r'\n",
    "x_r=np.real(data)\n",
    "x_i=np.imag(data)\n",
    "ax.plot(x_r,'b', label='points')\n",
    "ax.plot(x_i,'r', label='points')\n",
    "ax.set_xlabel('x')\n",
    "ax.set_ylabel('y')\n",
    "ax.legend()\n",
    "ax.set_title('Scatter plot and line')\n"
   ]
  },
  {
   "cell_type": "code",
   "execution_count": null,
   "id": "878700f7",
   "metadata": {},
   "outputs": [],
   "source": [
    "handle.close()"
   ]
  }
 ],
 "metadata": {
  "kernelspec": {
   "display_name": "Python 3",
   "language": "python",
   "name": "python3"
  },
  "language_info": {
   "codemirror_mode": {
    "name": "ipython",
    "version": 3
   },
   "file_extension": ".py",
   "mimetype": "text/x-python",
   "name": "python",
   "nbconvert_exporter": "python",
   "pygments_lexer": "ipython3",
   "version": "3.8.8"
  }
 },
 "nbformat": 4,
 "nbformat_minor": 5
}
