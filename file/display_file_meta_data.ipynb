{
 "cells": [
  {
   "cell_type": "code",
   "execution_count": 20,
   "id": "fc4d2386",
   "metadata": {},
   "outputs": [],
   "source": [
    "from gnuradio import gr,blocks\n",
    "import pmt\n",
    "import sys\n",
    "from gnuradio.blocks import parse_file_metadata\n",
    "#https://www.gnuradio.org/doc/doxygen/namespacepmt.html\n",
    "#https://wiki.gnuradio.org/index.php/Polymorphic_Types_(PMTs)\n",
    "dict_empty=pmt.make_dict()\n",
    "dict_one_el=pmt.dict_add(pmt.make_dict(), pmt.intern('Initial'), pmt.from_long(3))\n",
    "dict_two_el=pmt.dict_add(pmt.dict_add(pmt.make_dict(), pmt.intern('Initial'), pmt.from_long(3)), pmt.intern('Second'), pmt.intern('value'))\n"
   ]
  },
  {
   "cell_type": "code",
   "execution_count": 22,
   "id": "4e91eea0",
   "metadata": {},
   "outputs": [
    {
     "name": "stdout",
     "output_type": "stream",
     "text": [
      "((Initial . 3))\n",
      "((Second . value) (Initial . 3))\n"
     ]
    }
   ],
   "source": [
    "print(dict_one_el)\n",
    "print(dict_two_el)"
   ]
  },
  {
   "cell_type": "code",
   "execution_count": 23,
   "id": "ed4897bc",
   "metadata": {},
   "outputs": [
    {
     "name": "stdout",
     "output_type": "stream",
     "text": [
      "\n",
      "===Data segment 0 ===\n",
      "Version Number: 0\n",
      "Sample Rate: 32000.00 sps\n",
      "Seconds: 0.000000\n",
      "Item size: 4\n",
      "Data Type: float (5)\n",
      "Complex? False\n",
      "Header Length: 167 bytes\n",
      "Extra Length:  18\n",
      "Extra Header?  True\n",
      "Size of Data: 1280 bytes\n",
      "              320.0 items\n",
      "Initial: 3\n",
      "320 data elements read\n",
      "\n",
      "===Data segment 1 ===\n",
      "Version Number: 0\n",
      "Sample Rate: 32000.00 sps\n",
      "Seconds: 0.000000\n",
      "Item size: 4\n",
      "Data Type: float (5)\n",
      "Complex? False\n",
      "Header Length: 182 bytes\n",
      "Extra Length:  33\n",
      "Extra Header?  True\n",
      "Size of Data: 1280 bytes\n",
      "              320.0 items\n",
      "strobe: 0\n",
      "Initial: 3\n",
      "320 data elements read\n",
      "\n",
      "===Data segment 2 ===\n",
      "Version Number: 0\n",
      "Sample Rate: 32000.00 sps\n",
      "Seconds: 0.000000\n",
      "Item size: 4\n",
      "Data Type: float (5)\n",
      "Complex? False\n",
      "Header Length: 182 bytes\n",
      "Extra Length:  33\n",
      "Extra Header?  True\n",
      "Size of Data: 1280 bytes\n",
      "              320.0 items\n",
      "strobe: 0\n",
      "Initial: 3\n",
      "320 data elements read\n"
     ]
    }
   ],
   "source": [
    "#Example for GNU Radio documentation\n",
    "from gnuradio import gr,blocks\n",
    "import pmt\n",
    "import sys\n",
    "from gnuradio.blocks import parse_file_metadata\n",
    "import numpy as np\n",
    "\n",
    "filename ='./data/data_float32_saw_tooth.bin'\n",
    "max_data_segments_to_read = 3\n",
    "print_output = True\n",
    "fh = open(filename, \"rb\")\n",
    "for ii in range(max_data_segments_to_read):\n",
    "    header_str = fh.read(parse_file_metadata.HEADER_LENGTH)\n",
    "    header = pmt.deserialize_str(header_str)\n",
    "    print(f\"\\n===Data segment {ii} ===\")\n",
    "    header_info = parse_file_metadata.parse_header(header, print_output)\n",
    "    if(header_info[\"extra_len\"] > 0):\n",
    "        extra_str = fh.read(header_info[\"extra_len\"])\n",
    "        if(len(extra_str) != 0):\n",
    "            extra = pmt.deserialize_str(extra_str)                     \n",
    "            extra_info = parse_file_metadata.parse_extra_dict(extra, header_info, print_output)  \n",
    "    data=np.fromfile(file=fh, dtype=np.float32, count=int(header_info['nitems']), sep='', offset=0)\n",
    "    print(f\"{len(data)} data elements read\")\n",
    "fh.close()"
   ]
  },
  {
   "cell_type": "code",
   "execution_count": null,
   "id": "ef185cb5",
   "metadata": {},
   "outputs": [],
   "source": [
    "import matplotlib\n",
    "import matplotlib.pyplot as plt\n",
    "fig = plt.figure(figsize=(5,3.5))\n",
    "ax=fig.add_subplot(1,1,1)\n",
    "color='r'\n",
    "x_r=np.real(data)\n",
    "x_i=np.imag(data)\n",
    "ax.plot(x_r,'b', label='real')\n",
    "ax.plot(x_i,'r', label='imag')\n",
    "ax.set_xlabel('x')\n",
    "ax.set_ylabel('y')\n",
    "ax.legend()\n",
    "ax.set_title('Scatter plot and line')\n"
   ]
  },
  {
   "cell_type": "code",
   "execution_count": null,
   "id": "c97a317c",
   "metadata": {},
   "outputs": [],
   "source": [
    "from gnuradio import gr,blocks\n",
    "import pmt\n",
    "import sys\n",
    "from gnuradio.blocks import parse_file_metadata"
   ]
  },
  {
   "cell_type": "code",
   "execution_count": 3,
   "id": "5c1ece03",
   "metadata": {},
   "outputs": [],
   "source": [
    "#ref: https://github.com/gnuradio/gnuradio/blob/1a0be2e6b54496a8136a64d86e372ab219c6559b/gr-utils/read_file_metadata/gr_read_file_metadata\n",
    "#gr_read_file_metadata only works with detached headers\n",
    "filename ='./data/data_float32_saw_tooth.bin'\n",
    "#filename ='./data/data_float32_saw_tooth.bin.hdr'\n",
    "handle = open(filename, \"rb\")\n",
    "nheaders = 0\n",
    "nread = 0\n",
    "handle.seek(0, 0) #Go to the start of the file"
   ]
  },
  {
   "cell_type": "code",
   "execution_count": 13,
   "id": "c2eef7b5",
   "metadata": {},
   "outputs": [],
   "source": [
    "#Read metarecord\n",
    "\n",
    "hdr_start = handle.tell()\n",
    "header_str = handle.read(parse_file_metadata.HEADER_LENGTH)\n",
    "try:\n",
    "    header = pmt.deserialize_str(header_str)\n",
    "except RuntimeError:\n",
    "    sys.stderr.write(\"Could not deserialize header: invalid or corrupt data file.\\n\")"
   ]
  },
  {
   "cell_type": "code",
   "execution_count": 14,
   "id": "e9c9f6aa",
   "metadata": {},
   "outputs": [
    {
     "name": "stdout",
     "output_type": "stream",
     "text": [
      "hdr start position: 1446, header_str: b'\\x07\\x07\\x02\\x00\\x04strt\\x0b\\x00\\x00\\x00\\x00\\x00\\x00\\x00\\xb5\\x07\\x07\\x02\\x00\\x05bytes\\x0b\\x00\\x00\\x00\\x00\\x00\\x00\\x05\\x00\\x07\\x07\\x02\\x00\\x04cplx\\x01\\x07\\x07\\x02\\x00\\x04type\\x03\\x00\\x00\\x00\\x05\\x07\\x07\\x02\\x00\\x04size\\x03\\x00\\x00\\x00\\x04\\x07\\x07\\x02\\x00\\x07rx_time\\x0c\\x00\\x00\\x00\\x02\\x0b\\x00\\x00\\x00\\x00\\x00\\x00\\x00\\x00\\x04\\x00\\x00\\x00\\x00\\x00\\x00\\x00\\x00\\x07\\x07\\x02\\x00\\x07rx_rate\\x04@\\xdf@\\x00\\x00\\x00\\x00\\x00\\x07\\x07\\x02\\x00\\x07version\\x03\\x00\\x00\\x00\\x00\\x06'\n",
      "((strt . 181) (bytes . 1280) (cplx . #f) (type . 5) (size . 4) (rx_time . {0 0}) (rx_rate . 32000) (version . 0))\n",
      "HEADER number 0\n",
      "Version Number: 0\n",
      "Sample Rate: 32000.00 sps\n",
      "Seconds: 0.000000\n",
      "Item size: 4\n",
      "Data Type: float (5)\n",
      "Complex? False\n",
      "Header Length: 181 bytes\n",
      "Extra Length:  32\n",
      "Extra Header?  True\n",
      "Size of Data: 1280 bytes\n",
      "              320.0 items\n"
     ]
    }
   ],
   "source": [
    "print(f\"hdr start position: {hdr_start}, header_str: {header_str}\" )\n",
    "print(f\"{header}\")\n",
    "\n",
    "print(f\"HEADER number {nheaders}\")\n",
    "header_info = parse_file_metadata.parse_header(header, True)\n"
   ]
  },
  {
   "cell_type": "code",
   "execution_count": 15,
   "id": "b25892cb",
   "metadata": {},
   "outputs": [
    {
     "name": "stdout",
     "output_type": "stream",
     "text": [
      "strobe: 0\n",
      "Inital: 3\n",
      "Extra raw data is b'\\x07\\x07\\x02\\x00\\x06strobe\\x02\\x00\\x010\\x07\\x07\\x02\\x00\\x06Inital\\x03\\x00\\x00\\x00\\x03\\x06'\n",
      "{'rx_rate': 32000.0, 'rx_time': 0.0, 'size': 4, 'type': 'float', 'cplx': False, 'hdr_len': 181, 'extra_len': 32, 'has_extra': True, 'nitems': 320.0, 'nbytes': 1280, 'strobe': 0, 'Inital': 3}\n"
     ]
    }
   ],
   "source": [
    "if(header_info[\"extra_len\"] > 0):\n",
    "    extra_str = handle.read(header_info[\"extra_len\"])\n",
    "    if(len(extra_str) == 0):\n",
    "        pass\n",
    "    try:\n",
    "        extra = pmt.deserialize_str(extra_str)\n",
    "    except RuntimeError:\n",
    "        sys.stderr.write(\"Could not deserialize extras: invalid or corrupt data file.\\n\")\n",
    "\n",
    "    #print(f\"\\nExtra header found. Length is {header_info[\"extra_len\"]} bytes\")\n",
    "                         \n",
    "    extra_info = parse_file_metadata.parse_extra_dict(extra, header_info, True)\n",
    "  \n",
    "    print(f\"Extra raw data is {extra_str}\" )\n",
    "    print(f\"{extra_info}\")"
   ]
  },
  {
   "cell_type": "code",
   "execution_count": 8,
   "id": "68401e9c",
   "metadata": {},
   "outputs": [
    {
     "name": "stdout",
     "output_type": "stream",
     "text": [
      "The current position is 166\n"
     ]
    }
   ],
   "source": [
    "print(f'The current position is {handle.tell()}')"
   ]
  },
  {
   "cell_type": "code",
   "execution_count": 9,
   "id": "50debf94",
   "metadata": {},
   "outputs": [
    {
     "data": {
      "text/plain": [
       "1280"
      ]
     },
     "execution_count": 9,
     "metadata": {},
     "output_type": "execute_result"
    }
   ],
   "source": [
    "header_info['nbytes']"
   ]
  },
  {
   "cell_type": "code",
   "execution_count": 10,
   "id": "ec4c08b4",
   "metadata": {},
   "outputs": [],
   "source": [
    "#Plot data\n",
    "import numpy as np\n",
    "data=np.fromfile(file=handle, dtype=np.float32, count=int(header_info['nitems']), sep='', offset=0)"
   ]
  },
  {
   "cell_type": "code",
   "execution_count": 5,
   "id": "edd97618",
   "metadata": {},
   "outputs": [
    {
     "data": {
      "text/plain": [
       "Text(0.5, 1.0, 'Scatter plot and line')"
      ]
     },
     "execution_count": 5,
     "metadata": {},
     "output_type": "execute_result"
    },
    {
     "data": {
      "image/png": "[encoded data removed]",
      "text/plain": [
       "<Figure size 360x252 with 1 Axes>"
      ]
     },
     "metadata": {
      "needs_background": "light"
     },
     "output_type": "display_data"
    }
   ],
   "source": [
    "import matplotlib\n",
    "import matplotlib.pyplot as plt\n",
    "fig = plt.figure(figsize=(5,3.5))\n",
    "ax=fig.add_subplot(1,1,1)\n",
    "color='r'\n",
    "x_r=np.real(data)\n",
    "x_i=np.imag(data)\n",
    "ax.plot(x_r,'b', label='real')\n",
    "ax.plot(x_i,'r', label='imag')\n",
    "ax.set_xlabel('x')\n",
    "ax.set_ylabel('y')\n",
    "ax.legend()\n",
    "ax.set_title('Scatter plot and line')\n"
   ]
  },
  {
   "cell_type": "code",
   "execution_count": 16,
   "id": "878700f7",
   "metadata": {},
   "outputs": [],
   "source": [
    "handle.close()"
   ]
  }
 ],
 "metadata": {
  "kernelspec": {
   "display_name": "Python 3",
   "language": "python",
   "name": "python3"
  },
  "language_info": {
   "codemirror_mode": {
    "name": "ipython",
    "version": 3
   },
   "file_extension": ".py",
   "mimetype": "text/x-python",
   "name": "python",
   "nbconvert_exporter": "python",
   "pygments_lexer": "ipython3",
   "version": "3.8.8"
  }
 },
 "nbformat": 4,
 "nbformat_minor": 5
}
